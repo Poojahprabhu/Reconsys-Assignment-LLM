{
  "nbformat": 4,
  "nbformat_minor": 0,
  "metadata": {
    "colab": {
      "provenance": []
    },
    "kernelspec": {
      "name": "python3",
      "display_name": "Python 3"
    },
    "language_info": {
      "name": "python"
    },
    "widgets": {
      "application/vnd.jupyter.widget-state+json": {
        "a2f85f1b7ced4f1a9496eeb15d1ae3ce": {
          "model_module": "@jupyter-widgets/controls",
          "model_name": "FileUploadModel",
          "model_module_version": "1.5.0",
          "state": {
            "_counter": 1,
            "_dom_classes": [],
            "_model_module": "@jupyter-widgets/controls",
            "_model_module_version": "1.5.0",
            "_model_name": "FileUploadModel",
            "_view_count": null,
            "_view_module": "@jupyter-widgets/controls",
            "_view_module_version": "1.5.0",
            "_view_name": "FileUploadView",
            "accept": ".pdf,.txt",
            "button_style": "",
            "data": [
              null
            ],
            "description": "Upload",
            "description_tooltip": null,
            "disabled": false,
            "error": "",
            "icon": "upload",
            "layout": "IPY_MODEL_9e0602530768479cad1f2449fb8220c7",
            "metadata": [
              {
                "name": "Penguin-1-2.pdf",
                "type": "application/pdf",
                "size": 250428,
                "lastModified": 1720780879854
              }
            ],
            "multiple": false,
            "style": "IPY_MODEL_b3e0c00d2af3442f8de66e4f9bbba25a"
          }
        },
        "9e0602530768479cad1f2449fb8220c7": {
          "model_module": "@jupyter-widgets/base",
          "model_name": "LayoutModel",
          "model_module_version": "1.2.0",
          "state": {
            "_model_module": "@jupyter-widgets/base",
            "_model_module_version": "1.2.0",
            "_model_name": "LayoutModel",
            "_view_count": null,
            "_view_module": "@jupyter-widgets/base",
            "_view_module_version": "1.2.0",
            "_view_name": "LayoutView",
            "align_content": null,
            "align_items": null,
            "align_self": null,
            "border": null,
            "bottom": null,
            "display": null,
            "flex": null,
            "flex_flow": null,
            "grid_area": null,
            "grid_auto_columns": null,
            "grid_auto_flow": null,
            "grid_auto_rows": null,
            "grid_column": null,
            "grid_gap": null,
            "grid_row": null,
            "grid_template_areas": null,
            "grid_template_columns": null,
            "grid_template_rows": null,
            "height": null,
            "justify_content": null,
            "justify_items": null,
            "left": null,
            "margin": null,
            "max_height": null,
            "max_width": null,
            "min_height": null,
            "min_width": null,
            "object_fit": null,
            "object_position": null,
            "order": null,
            "overflow": null,
            "overflow_x": null,
            "overflow_y": null,
            "padding": null,
            "right": null,
            "top": null,
            "visibility": null,
            "width": null
          }
        },
        "b3e0c00d2af3442f8de66e4f9bbba25a": {
          "model_module": "@jupyter-widgets/controls",
          "model_name": "ButtonStyleModel",
          "model_module_version": "1.5.0",
          "state": {
            "_model_module": "@jupyter-widgets/controls",
            "_model_module_version": "1.5.0",
            "_model_name": "ButtonStyleModel",
            "_view_count": null,
            "_view_module": "@jupyter-widgets/base",
            "_view_module_version": "1.2.0",
            "_view_name": "StyleView",
            "button_color": null,
            "font_weight": ""
          }
        },
        "593580f37eb34f29aedee74eaeebe642": {
          "model_module": "@jupyter-widgets/controls",
          "model_name": "TextModel",
          "model_module_version": "1.5.0",
          "state": {
            "_dom_classes": [],
            "_model_module": "@jupyter-widgets/controls",
            "_model_module_version": "1.5.0",
            "_model_name": "TextModel",
            "_view_count": null,
            "_view_module": "@jupyter-widgets/controls",
            "_view_module_version": "1.5.0",
            "_view_name": "TextView",
            "continuous_update": true,
            "description": "Question:",
            "description_tooltip": null,
            "disabled": false,
            "layout": "IPY_MODEL_d9a4130133884cab949196f32ac8d62d",
            "placeholder": "Type your question here",
            "style": "IPY_MODEL_0c63c8215c0c4869907c8345cbbf5503",
            "value": "How can penguins adapt to such extreme cold weather?"
          }
        },
        "d9a4130133884cab949196f32ac8d62d": {
          "model_module": "@jupyter-widgets/base",
          "model_name": "LayoutModel",
          "model_module_version": "1.2.0",
          "state": {
            "_model_module": "@jupyter-widgets/base",
            "_model_module_version": "1.2.0",
            "_model_name": "LayoutModel",
            "_view_count": null,
            "_view_module": "@jupyter-widgets/base",
            "_view_module_version": "1.2.0",
            "_view_name": "LayoutView",
            "align_content": null,
            "align_items": null,
            "align_self": null,
            "border": null,
            "bottom": null,
            "display": null,
            "flex": null,
            "flex_flow": null,
            "grid_area": null,
            "grid_auto_columns": null,
            "grid_auto_flow": null,
            "grid_auto_rows": null,
            "grid_column": null,
            "grid_gap": null,
            "grid_row": null,
            "grid_template_areas": null,
            "grid_template_columns": null,
            "grid_template_rows": null,
            "height": "100px",
            "justify_content": null,
            "justify_items": null,
            "left": null,
            "margin": null,
            "max_height": null,
            "max_width": null,
            "min_height": null,
            "min_width": null,
            "object_fit": null,
            "object_position": null,
            "order": null,
            "overflow": null,
            "overflow_x": null,
            "overflow_y": null,
            "padding": null,
            "right": null,
            "top": null,
            "visibility": null,
            "width": "100%"
          }
        },
        "0c63c8215c0c4869907c8345cbbf5503": {
          "model_module": "@jupyter-widgets/controls",
          "model_name": "DescriptionStyleModel",
          "model_module_version": "1.5.0",
          "state": {
            "_model_module": "@jupyter-widgets/controls",
            "_model_module_version": "1.5.0",
            "_model_name": "DescriptionStyleModel",
            "_view_count": null,
            "_view_module": "@jupyter-widgets/base",
            "_view_module_version": "1.2.0",
            "_view_name": "StyleView",
            "description_width": ""
          }
        },
        "6140d751534640e79ffeab21bfeee0d7": {
          "model_module": "@jupyter-widgets/controls",
          "model_name": "ButtonModel",
          "model_module_version": "1.5.0",
          "state": {
            "_dom_classes": [],
            "_model_module": "@jupyter-widgets/controls",
            "_model_module_version": "1.5.0",
            "_model_name": "ButtonModel",
            "_view_count": null,
            "_view_module": "@jupyter-widgets/controls",
            "_view_module_version": "1.5.0",
            "_view_name": "ButtonView",
            "button_style": "primary",
            "description": "Submit",
            "disabled": false,
            "icon": "",
            "layout": "IPY_MODEL_6e4b4702b0464f20a5cd57fd26371ac9",
            "style": "IPY_MODEL_6a25961d9c1f40539aedc69a9a72519d",
            "tooltip": ""
          }
        },
        "6e4b4702b0464f20a5cd57fd26371ac9": {
          "model_module": "@jupyter-widgets/base",
          "model_name": "LayoutModel",
          "model_module_version": "1.2.0",
          "state": {
            "_model_module": "@jupyter-widgets/base",
            "_model_module_version": "1.2.0",
            "_model_name": "LayoutModel",
            "_view_count": null,
            "_view_module": "@jupyter-widgets/base",
            "_view_module_version": "1.2.0",
            "_view_name": "LayoutView",
            "align_content": null,
            "align_items": null,
            "align_self": null,
            "border": null,
            "bottom": null,
            "display": null,
            "flex": null,
            "flex_flow": null,
            "grid_area": null,
            "grid_auto_columns": null,
            "grid_auto_flow": null,
            "grid_auto_rows": null,
            "grid_column": null,
            "grid_gap": null,
            "grid_row": null,
            "grid_template_areas": null,
            "grid_template_columns": null,
            "grid_template_rows": null,
            "height": null,
            "justify_content": null,
            "justify_items": null,
            "left": null,
            "margin": null,
            "max_height": null,
            "max_width": null,
            "min_height": null,
            "min_width": null,
            "object_fit": null,
            "object_position": null,
            "order": null,
            "overflow": null,
            "overflow_x": null,
            "overflow_y": null,
            "padding": null,
            "right": null,
            "top": null,
            "visibility": null,
            "width": null
          }
        },
        "6a25961d9c1f40539aedc69a9a72519d": {
          "model_module": "@jupyter-widgets/controls",
          "model_name": "ButtonStyleModel",
          "model_module_version": "1.5.0",
          "state": {
            "_model_module": "@jupyter-widgets/controls",
            "_model_module_version": "1.5.0",
            "_model_name": "ButtonStyleModel",
            "_view_count": null,
            "_view_module": "@jupyter-widgets/base",
            "_view_module_version": "1.2.0",
            "_view_name": "StyleView",
            "button_color": null,
            "font_weight": ""
          }
        },
        "1a0f9517b9d6488d833fcabfe538f0b1": {
          "model_module": "@jupyter-widgets/controls",
          "model_name": "TextareaModel",
          "model_module_version": "1.5.0",
          "state": {
            "_dom_classes": [],
            "_model_module": "@jupyter-widgets/controls",
            "_model_module_version": "1.5.0",
            "_model_name": "TextareaModel",
            "_view_count": null,
            "_view_module": "@jupyter-widgets/controls",
            "_view_module_version": "1.5.0",
            "_view_name": "TextareaView",
            "continuous_update": true,
            "description": "Answer:",
            "description_tooltip": null,
            "disabled": true,
            "layout": "IPY_MODEL_03ec0f789a96493ab15a989187b5d66f",
            "placeholder": "The answer will appear here...",
            "rows": null,
            "style": "IPY_MODEL_5116ffaddff649fcb69be1e15d7b8964",
            "value": "penguins have countershaded dark and white plumage and flippers for swimming "
          }
        },
        "03ec0f789a96493ab15a989187b5d66f": {
          "model_module": "@jupyter-widgets/base",
          "model_name": "LayoutModel",
          "model_module_version": "1.2.0",
          "state": {
            "_model_module": "@jupyter-widgets/base",
            "_model_module_version": "1.2.0",
            "_model_name": "LayoutModel",
            "_view_count": null,
            "_view_module": "@jupyter-widgets/base",
            "_view_module_version": "1.2.0",
            "_view_name": "LayoutView",
            "align_content": null,
            "align_items": null,
            "align_self": null,
            "border": null,
            "bottom": null,
            "display": null,
            "flex": null,
            "flex_flow": null,
            "grid_area": null,
            "grid_auto_columns": null,
            "grid_auto_flow": null,
            "grid_auto_rows": null,
            "grid_column": null,
            "grid_gap": null,
            "grid_row": null,
            "grid_template_areas": null,
            "grid_template_columns": null,
            "grid_template_rows": null,
            "height": "200px",
            "justify_content": null,
            "justify_items": null,
            "left": null,
            "margin": null,
            "max_height": null,
            "max_width": null,
            "min_height": null,
            "min_width": null,
            "object_fit": null,
            "object_position": null,
            "order": null,
            "overflow": null,
            "overflow_x": null,
            "overflow_y": null,
            "padding": null,
            "right": null,
            "top": null,
            "visibility": null,
            "width": "100%"
          }
        },
        "5116ffaddff649fcb69be1e15d7b8964": {
          "model_module": "@jupyter-widgets/controls",
          "model_name": "DescriptionStyleModel",
          "model_module_version": "1.5.0",
          "state": {
            "_model_module": "@jupyter-widgets/controls",
            "_model_module_version": "1.5.0",
            "_model_name": "DescriptionStyleModel",
            "_view_count": null,
            "_view_module": "@jupyter-widgets/base",
            "_view_module_version": "1.2.0",
            "_view_name": "StyleView",
            "description_width": ""
          }
        }
      }
    }
  },
  "cells": [
    {
      "cell_type": "markdown",
      "source": [
        "Packages required"
      ],
      "metadata": {
        "id": "_nbGzg9trS0z"
      }
    },
    {
      "cell_type": "code",
      "execution_count": null,
      "metadata": {
        "collapsed": true,
        "id": "mjKx3b1zSwH6"
      },
      "outputs": [],
      "source": [
        "!pip install openai\n",
        "!pip install faiss-cpu\n",
        "!pip install PyPDF2\n",
        "!pip install ipywidgets\n",
        "!pip install sentence-transformers\n",
        "!pip install pdfminer.six\n",
        "!pip install Torch\n",
        "!pip install openai==0.28"
      ]
    },
    {
      "cell_type": "markdown",
      "source": [
        "Import Libraries"
      ],
      "metadata": {
        "id": "kKSP-cFZrXHS"
      }
    },
    {
      "cell_type": "code",
      "source": [
        "import re\n",
        "import io\n",
        "from IPython.display import display, HTML\n",
        "from pdfminer.high_level import extract_text\n",
        "from transformers import BertTokenizer, BertForQuestionAnswering\n",
        "import torch\n",
        "import ipywidgets as widgets\n",
        "import warnings"
      ],
      "metadata": {
        "id": "I15ijGxlrJXq"
      },
      "execution_count": 9,
      "outputs": []
    },
    {
      "cell_type": "markdown",
      "source": [
        "DocumentProcessor class with the functions to upload, clean, process question and generate answer functions."
      ],
      "metadata": {
        "id": "SxsrCMoerZdS"
      }
    },
    {
      "cell_type": "code",
      "source": [
        "\n",
        "warnings.filterwarnings(\"ignore\", category=UserWarning, module='transformers.tokenization_utils_base')\n",
        "\n",
        "class DocumentProcessor:\n",
        "  #Initialise global variables\n",
        "    def __init__(self):\n",
        "        self.chunks = None\n",
        "        self.tokenizer = BertTokenizer.from_pretrained('bert-large-uncased-whole-word-masking-finetuned-squad')\n",
        "        self.model = BertForQuestionAnswering.from_pretrained('bert-large-uncased-whole-word-masking-finetuned-squad')\n",
        "\n",
        "    def handle_upload(self, change):\n",
        "      #Upload file\n",
        "        for uploaded_filename in change['new']:\n",
        "            file_info = change['new'][uploaded_filename]\n",
        "            content = file_info['content']\n",
        "\n",
        "            if uploaded_filename.endswith('.pdf'):\n",
        "                text = self.extract_text_from_pdf(content)\n",
        "            elif uploaded_filename.endswith('.txt'):\n",
        "                text = self.extract_text_from_txt(content)\n",
        "            else:\n",
        "                text = \"Unsupported file format. Please upload a PDF or TXT file.\"\n",
        "\n",
        "            cleaned_text = self.clean_text(text)\n",
        "            self.chunks = self.split_into_chunks(cleaned_text)\n",
        "            self.enable_question_input()\n",
        "\n",
        "            display(HTML(f\"<p>File name: {uploaded_filename} <br> Status: processed<br>Type your queries in the question box and wait for the answer</p>\"))\n",
        "\n",
        "    #Enable question input and submit button (The user cannot type the question until the file is processed)\n",
        "    def enable_question_input(self):\n",
        "        question_input.disabled = False\n",
        "        submit_button.disabled = False\n",
        "\n",
        "    def extract_text_from_pdf(self, content):\n",
        "        text = extract_text(io.BytesIO(content))\n",
        "        return text\n",
        "\n",
        "    def extract_text_from_txt(self, content):\n",
        "        return content.decode('utf-8')\n",
        "\n",
        "    #text preprocessing\n",
        "    def clean_text(self, text):\n",
        "        text = re.sub(r'\\s+', ' ', text)\n",
        "        text = re.sub(r'[^\\w\\s]', '', text)\n",
        "        return text\n",
        "\n",
        "    def split_into_chunks(self, text, chunk_size=500):\n",
        "        words = text.split()\n",
        "        chunks = []\n",
        "        for i in range(0, len(words), chunk_size):\n",
        "            chunk = ' '.join(words[i:i + chunk_size])\n",
        "            chunk_tokens = self.tokenizer(chunk, return_tensors='pt', truncation=True, max_length=512)['input_ids']\n",
        "            if chunk_tokens.size(1) <= 512:\n",
        "                chunks.append(chunk)\n",
        "            else:\n",
        "                sub_chunks = [chunk[j:j + chunk_size] for j in range(0, len(chunk), chunk_size)\n",
        "                              if len(self.tokenizer(chunk[j:j + chunk_size])['input_ids']) >= 512]\n",
        "                chunks.extend(sub_chunks)\n",
        "        return chunks\n",
        "\n",
        "    #Process Question\n",
        "    def process_question(self, question):\n",
        "        relevant_chunks = []\n",
        "        for chunk in self.chunks:\n",
        "            chunk_tokens = self.tokenizer(chunk, return_tensors='pt', truncation=True, max_length=512)['input_ids']\n",
        "            if chunk_tokens.size(1) <= 512:\n",
        "                relevant_chunks.append(chunk)\n",
        "        return relevant_chunks\n",
        "\n",
        "\n",
        "    #Generate answers utiling BERT (Hugging face)\n",
        "    def generate_answer(self, question, relevant_chunks):\n",
        "        answers = []\n",
        "        for chunk in relevant_chunks:\n",
        "            inputs = self.tokenizer.encode_plus(\n",
        "                question,\n",
        "                chunk,\n",
        "                return_tensors='pt',\n",
        "                add_special_tokens=True,\n",
        "                truncation='only_second',  # Truncate only the chunk text\n",
        "                max_length=512\n",
        "            )\n",
        "            with torch.no_grad():\n",
        "                outputs = self.model(**inputs)\n",
        "                start_scores = outputs.start_logits\n",
        "                end_scores = outputs.end_logits\n",
        "                start_index = torch.argmax(start_scores)\n",
        "                end_index = torch.argmax(end_scores) + 1\n",
        "\n",
        "                answer_tokens = inputs['input_ids'][0][start_index:end_index]\n",
        "                answer = self.tokenizer.decode(answer_tokens, skip_special_tokens=True)\n",
        "                answers.append(answer)\n",
        "\n",
        "        combined_answer = \" \".join(answers)\n",
        "        return combined_answer\n",
        "\n",
        "doc_processor = DocumentProcessor()\n",
        "\n",
        "#Creates simple UI using widgets\n",
        "uploader = widgets.FileUpload(\n",
        "    accept='.pdf,.txt',\n",
        "    multiple=False\n",
        ")\n",
        "\n",
        "uploader.observe(doc_processor.handle_upload, names='value')\n",
        "\n",
        "display(uploader)\n",
        "\n",
        "question_input = widgets.Text(\n",
        "    value='',\n",
        "    placeholder='Type your question here',\n",
        "    description='Question:',\n",
        "    disabled=True,\n",
        "    layout=widgets.Layout(width='100%', height='100px')\n",
        ")\n",
        "\n",
        "submit_button = widgets.Button(\n",
        "    description='Submit',\n",
        "    disabled=True,\n",
        "    button_style='primary'\n",
        ")\n",
        "\n",
        "answer_display = widgets.Textarea(\n",
        "    value='',\n",
        "    placeholder='The answer will appear here...',\n",
        "    description='Answer:',\n",
        "    disabled=True,\n",
        "    layout=widgets.Layout(width='100%', height='200px')\n",
        ")\n",
        "\n",
        "#Submit button handler\n",
        "def handle_submit(_):\n",
        "    question = question_input.value.strip()\n",
        "\n",
        "    if doc_processor.chunks is not None:\n",
        "        relevant_chunks = doc_processor.process_question(question)\n",
        "        answer = doc_processor.generate_answer(question, relevant_chunks)\n",
        "        answer_display.value = answer\n",
        "\n",
        "submit_button.on_click(handle_submit)\n",
        "\n",
        "display(question_input)\n",
        "display(submit_button)\n",
        "display(answer_display)\n"
      ],
      "metadata": {
        "colab": {
          "base_uri": "https://localhost:8080/",
          "height": 526,
          "referenced_widgets": [
            "a2f85f1b7ced4f1a9496eeb15d1ae3ce",
            "9e0602530768479cad1f2449fb8220c7",
            "b3e0c00d2af3442f8de66e4f9bbba25a",
            "593580f37eb34f29aedee74eaeebe642",
            "d9a4130133884cab949196f32ac8d62d",
            "0c63c8215c0c4869907c8345cbbf5503",
            "6140d751534640e79ffeab21bfeee0d7",
            "6e4b4702b0464f20a5cd57fd26371ac9",
            "6a25961d9c1f40539aedc69a9a72519d",
            "1a0f9517b9d6488d833fcabfe538f0b1",
            "03ec0f789a96493ab15a989187b5d66f",
            "5116ffaddff649fcb69be1e15d7b8964"
          ]
        },
        "id": "nAfhFd4kS5Ta",
        "outputId": "849053fb-0382-449c-dcb3-7efb0af1b4c7"
      },
      "execution_count": 10,
      "outputs": [
        {
          "output_type": "stream",
          "name": "stderr",
          "text": [
            "Some weights of the model checkpoint at bert-large-uncased-whole-word-masking-finetuned-squad were not used when initializing BertForQuestionAnswering: ['bert.pooler.dense.bias', 'bert.pooler.dense.weight']\n",
            "- This IS expected if you are initializing BertForQuestionAnswering from the checkpoint of a model trained on another task or with another architecture (e.g. initializing a BertForSequenceClassification model from a BertForPreTraining model).\n",
            "- This IS NOT expected if you are initializing BertForQuestionAnswering from the checkpoint of a model that you expect to be exactly identical (initializing a BertForSequenceClassification model from a BertForSequenceClassification model).\n"
          ]
        },
        {
          "output_type": "display_data",
          "data": {
            "text/plain": [
              "FileUpload(value={}, accept='.pdf,.txt', description='Upload')"
            ],
            "application/vnd.jupyter.widget-view+json": {
              "version_major": 2,
              "version_minor": 0,
              "model_id": "a2f85f1b7ced4f1a9496eeb15d1ae3ce"
            }
          },
          "metadata": {}
        },
        {
          "output_type": "display_data",
          "data": {
            "text/plain": [
              "Text(value='', description='Question:', disabled=True, layout=Layout(height='100px', width='100%'), placeholde…"
            ],
            "application/vnd.jupyter.widget-view+json": {
              "version_major": 2,
              "version_minor": 0,
              "model_id": "593580f37eb34f29aedee74eaeebe642"
            }
          },
          "metadata": {}
        },
        {
          "output_type": "display_data",
          "data": {
            "text/plain": [
              "Button(button_style='primary', description='Submit', disabled=True, style=ButtonStyle())"
            ],
            "application/vnd.jupyter.widget-view+json": {
              "version_major": 2,
              "version_minor": 0,
              "model_id": "6140d751534640e79ffeab21bfeee0d7"
            }
          },
          "metadata": {}
        },
        {
          "output_type": "display_data",
          "data": {
            "text/plain": [
              "Textarea(value='', description='Answer:', disabled=True, layout=Layout(height='200px', width='100%'), placehol…"
            ],
            "application/vnd.jupyter.widget-view+json": {
              "version_major": 2,
              "version_minor": 0,
              "model_id": "1a0f9517b9d6488d833fcabfe538f0b1"
            }
          },
          "metadata": {}
        },
        {
          "output_type": "display_data",
          "data": {
            "text/plain": [
              "<IPython.core.display.HTML object>"
            ],
            "text/html": [
              "<p>File name: Penguin-1-2.pdf <br> Status: processed<br>Type your queries in the question box and wait for the answer</p>"
            ]
          },
          "metadata": {}
        }
      ]
    }
  ]
}